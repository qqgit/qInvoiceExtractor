{
 "cells": [
  {
   "cell_type": "code",
   "execution_count": 86,
   "metadata": {
    "ExecuteTime": {
     "end_time": "2019-07-08T14:37:57.725674Z",
     "start_time": "2019-07-08T14:37:57.721674Z"
    }
   },
   "outputs": [],
   "source": [
    "import os\n",
    "import xlrd\n",
    "import re\n",
    "import shutil\n",
    "import sys\n",
    "import threading\n",
    "import time\n",
    "\n",
    "import pdfplumber\n",
    "\n",
    "import pyzbar.pyzbar as pyzbar\n",
    "import numpy as np\n",
    "import cv2"
   ]
  },
  {
   "cell_type": "code",
   "execution_count": 114,
   "metadata": {
    "ExecuteTime": {
     "end_time": "2019-07-08T14:56:47.620315Z",
     "start_time": "2019-07-08T14:56:47.612338Z"
    }
   },
   "outputs": [],
   "source": [
    "from pdfminer.pdfparser import PDFParser\n",
    "from pdfminer.pdfdocument import PDFDocument, PDFNoOutlines\n",
    "from pdfminer.pdfpage import PDFPage\n",
    "from pdfminer.pdfinterp import PDFResourceManager, PDFPageInterpreter\n",
    "from pdfminer.converter import PDFPageAggregator\n",
    "from pdfminer.layout import LAParams, LTTextBox, LTTextLine, LTFigure, LTImage, LTChar\n",
    "\n",
    "def parse_pdf_with_PdfMiner3K(path):\n",
    "    with open(path, 'rb') as fp:\n",
    "        parser = PDFParser(fp)\n",
    "        doc = PDFDocument(parser)\n",
    "        parser.set_document(doc)\n",
    "#         doc.set_parser(parser)\n",
    "#         doc.initialize('')\n",
    "        rsrcmgr = PDFResourceManager()\n",
    "        laparams = LAParams()\n",
    "        laparams.char_margin = 1.0\n",
    "        laparams.word_margin = 1.0\n",
    "        device = PDFPageAggregator(rsrcmgr, laparams=laparams)\n",
    "        interpreter = PDFPageInterpreter(rsrcmgr, device)\n",
    "        extracted_text = ''\n",
    "        for i,page in enumerate(PDFPage.create_pages(doc)):\n",
    "            interpreter.process_page(page)\n",
    "            layout = device.get_result()\n",
    "            for lt_obj in layout:\n",
    "                if isinstance(lt_obj, LTTextBox) or isinstance(lt_obj, LTTextLine):\n",
    "                    extracted_text += lt_obj.get_text()\n",
    "    return extracted_text\n",
    "#     with open(output_path, \"w\", encoding=\"utf-8\") as f:\n",
    "#         f.write(extracted_text)"
   ]
  },
  {
   "cell_type": "code",
   "execution_count": null,
   "metadata": {},
   "outputs": [],
   "source": []
  },
  {
   "cell_type": "code",
   "execution_count": 110,
   "metadata": {
    "ExecuteTime": {
     "end_time": "2019-07-08T14:54:34.869520Z",
     "start_time": "2019-07-08T14:54:34.865517Z"
    }
   },
   "outputs": [],
   "source": [
    "def parse_pdf(path):\n",
    "    with pdfplumber.open(path) as pdf:\n",
    "#         first_page = pdf.pages[0]\n",
    "#         print(first_page.chars[0])\n",
    "\n",
    "        for page in pdf.pages:\n",
    "            # 获取当前页面的全部文本信息，包括表格中的文字\n",
    "            # print(page.extract_text())                        \n",
    "        \n",
    "            for table in page.extract_tables():\n",
    "#                 print(table)\n",
    "                for row in table:\n",
    "                    print(row)\n",
    "                    pass\n",
    "                # print('---------- 分割线 ----------')\n",
    "        \n",
    "        pdf.close()\n",
    "        result = {'pages': pdf.pages}\n",
    "        return result"
   ]
  },
  {
   "cell_type": "code",
   "execution_count": 190,
   "metadata": {
    "ExecuteTime": {
     "end_time": "2019-07-14T15:20:33.646771Z",
     "start_time": "2019-07-14T15:20:33.548684Z"
    }
   },
   "outputs": [
    {
     "name": "stdout",
     "output_type": "stream",
     "text": [
      "['购\\n买\\n方', '名        称:北京慧远云程科技有限公司\\n91110105306602928Y\\n纳税人识别号:\\n地 址、电 话:\\n开户行及账号:', None, None, None, None, '密\\n码\\n区', '59+8>9232--*+99+333*-<9/1/-\\n60/4</2*/137<6/0110*0/2<2</\\n/0+9</9*<+*6*1+1+19>+130>-9\\n*09>12>5+/1+/0-><>/0998+95+', None, None, None]\n",
      "['货物或应税劳务、服务名称     \\n*纺织产品*天石（HighRock）户外\\n露营情侣左右互拼成人棉睡袋 -10度 \\n右开 天蓝色\\n*纺织产品*天石（HighRock）户外\\n露营情侣左右互拼成人棉睡袋 -10度 \\n右开 天蓝色\\n合       计', None, '规格型号 \\n冷杉', '单位', '数 量\\n1', '单 价\\n171.55', None, None, '金  额  \\n171.55\\n-86.22\\n¥85.33', '税率\\n16%\\n16%', '税    额\\n27.45\\n-13.79\\n¥13.66']\n",
      "['价税合计(大写)', None, '¥98.99\\n玖拾捌圆玖角玖分 (小写)', None, None, None, None, None, None, None, None]\n",
      "['销\\n售\\n方', '名        称:沈阳京东世纪贸易有限公司\\n912101125893550575\\n纳税人识别号:\\n地 址、电 话:辽宁省沈阳市浑南区麦子屯590-4号102室 024-67859504\\n开户行及账号:中国建设银行沈阳市中山支行 21001360008059003247', None, None, None, None, '备\\n注', '订单号:90235270381', None, None, None]\n"
     ]
    }
   ],
   "source": [
    "pdf_file_name = '日用品20190322_98p99'\n",
    "#     pdf_file_name = '日用品20190417_197p98'\n",
    "#     pdf_file_name = '食品20190408_91p8'\n",
    "path = 'data\\\\invoice\\\\{pdf_file_name}.pdf'.format(pdf_file_name=pdf_file_name)\n",
    "output_path = 'data\\\\result\\\\{pdf_file_name}.txt'.format(pdf_file_name=pdf_file_name)\n",
    "result = parse_pdf(path)"
   ]
  },
  {
   "cell_type": "code",
   "execution_count": null,
   "metadata": {},
   "outputs": [],
   "source": []
  },
  {
   "cell_type": "code",
   "execution_count": 115,
   "metadata": {
    "ExecuteTime": {
     "end_time": "2019-07-08T14:56:54.004776Z",
     "start_time": "2019-07-08T14:56:53.825000Z"
    }
   },
   "outputs": [],
   "source": [
    "result2 = parse_pdf_with_PdfMiner3K(path)"
   ]
  },
  {
   "cell_type": "code",
   "execution_count": 116,
   "metadata": {
    "ExecuteTime": {
     "end_time": "2019-07-08T14:56:54.504087Z",
     "start_time": "2019-07-08T14:56:54.499083Z"
    }
   },
   "outputs": [
    {
     "data": {
      "text/plain": [
       "' 辽宁增值税电子普通发票\\n监票发一统\\n制\\n国\\n全\\n国\\n家税务\\n总\\n局\\n章\\n宁辽\\n省税务\\n局\\n发票代码:\\n021001900111\\n发票号码:\\n23763823\\n开票日期:\\n2019  03  22\\n年\\n月\\n日\\n机器编号:\\n661807100422\\n北京慧远云程科技有限公司\\n91110105306602928Y\\n购\\n买\\n方\\n名        称:\\n纳税人识别号:\\n地 址、电 话:\\n开户行及账号:\\n校 验 码:\\n70446  05854  14159  09133  \\n59+8>9232--*+99+333*-<9/1/-\\n60/4</2*/137<6/0110*0/2<2</\\n/0+9</9*<+*6*1+1+19>+130>-9\\n*09>12>5+/1+/0-><>/0998+95+\\n密\\n码\\n区\\n货物或应税劳务、服务名称      规格型号   单位\\n 数 量\\n   单 价\\n金  额\\n  税率          税  额\\n*纺织产品*天石（HighRock）户外\\n露营情侣左右互拼成人棉睡袋 -10度 \\n右开 天蓝色\\n*纺织产品*天石（HighRock）户外\\n露营情侣左右互拼成人棉睡袋 -10度 \\n右开 天蓝色\\n冷杉\\n1\\n171.55\\n171.55\\n16%\\n-86.22\\n16%\\n合       计\\n价税合计(大写)\\n玖拾捌圆玖角玖分\\n¥85.33\\n(小写)\\n¥98.99\\n销\\n售\\n方\\n名        称:\\n纳税人识别号:\\n地 址、电 话:\\n开户行及账号:\\n沈阳京东世纪贸易有限公司\\n912101125893550575\\n辽宁省沈阳市浑南区麦子屯590-4号102室 024-67859504\\n中国建设银行沈阳市中山支行 21001360008059003247\\n备\\n注\\n订单号:90235270381\\n收款人:\\n京东商城\\n复核:\\n开票人:\\n京东商城\\n销售方:(章)\\n27.45\\n-13.79\\n¥13.66\\n \\n \\n \\n \\n \\n \\n \\n \\n \\n \\n \\n \\n \\n \\n \\n \\n \\n \\n \\n \\n \\n \\n \\n \\n \\n \\n \\n \\n \\n \\n \\n \\n \\n \\n \\n \\n \\n \\n \\n \\n \\n \\n \\n \\n \\n \\n \\n \\n \\n \\n \\n \\n \\n \\n \\n \\n \\n \\n \\n \\n \\n \\n \\n \\n \\n \\n \\n \\n \\n \\n \\n \\n \\n \\n \\n \\n \\n \\n \\n \\n \\n \\n \\n \\n'"
      ]
     },
     "execution_count": 116,
     "metadata": {},
     "output_type": "execute_result"
    }
   ],
   "source": [
    "result2"
   ]
  },
  {
   "cell_type": "code",
   "execution_count": 78,
   "metadata": {
    "ExecuteTime": {
     "end_time": "2019-07-08T14:22:21.123535Z",
     "start_time": "2019-07-08T14:22:21.115519Z"
    }
   },
   "outputs": [],
   "source": [
    "def decode(im) : \n",
    "  # Find barcodes and QR codes\n",
    "  decodedObjects = pyzbar.decode(im)\n",
    " \n",
    "  # Print results\n",
    "  for obj in decodedObjects:\n",
    "    print('Type : ', obj.type)\n",
    "    print('Data : ', obj.data.decode(encoding='utf-8'),'\\n')\n",
    "     \n",
    "  return decodedObjects\n",
    "# Display barcode and QR code location  \n",
    "def display(im, decodedObjects):\n",
    " \n",
    "  # Loop over all decoded objects\n",
    "  for decodedObject in decodedObjects: \n",
    "    points = decodedObject.polygon\n",
    " \n",
    "    # If the points do not form a quad, find convex hull\n",
    "    if len(points) > 4 : \n",
    "      hull = cv2.convexHull(np.array([point for point in points], dtype=np.float32))\n",
    "      hull = list(map(tuple, np.squeeze(hull)))\n",
    "    else : \n",
    "      hull = points;\n",
    "     \n",
    "    # Number of points in the convex hull\n",
    "    n = len(hull)\n",
    " \n",
    "    # Draw the convext hull\n",
    "    for j in range(0,n):\n",
    "      cv2.line(im, hull[j], hull[ (j+1) % n], (255,0,0), 3)\n",
    " \n",
    "  # Display results \n",
    "  cv2.imshow(\"Results\", im);\n",
    "  cv2.waitKey(0);"
   ]
  },
  {
   "cell_type": "code",
   "execution_count": 79,
   "metadata": {
    "ExecuteTime": {
     "end_time": "2019-07-08T14:22:23.022176Z",
     "start_time": "2019-07-08T14:22:22.780273Z"
    }
   },
   "outputs": [],
   "source": [
    "import qrcode\n",
    "img = qrcode.make('hello, 中文qrcode测试')\n",
    "img.save('zbar-test.png')"
   ]
  },
  {
   "cell_type": "code",
   "execution_count": 80,
   "metadata": {
    "ExecuteTime": {
     "end_time": "2019-07-08T14:23:00.585786Z",
     "start_time": "2019-07-08T14:22:24.411213Z"
    }
   },
   "outputs": [
    {
     "name": "stdout",
     "output_type": "stream",
     "text": [
      "Type :  QRCODE\n",
      "Data :  hello, 中文qrcode测试 \n",
      "\n"
     ]
    }
   ],
   "source": [
    "# Read image\n",
    "im = cv2.imread('zbar-test.png')\n",
    "\n",
    "decodedObjects = decode(im)\n",
    "display(im, decodedObjects)"
   ]
  },
  {
   "cell_type": "code",
   "execution_count": 81,
   "metadata": {
    "ExecuteTime": {
     "end_time": "2019-07-08T14:23:00.590790Z",
     "start_time": "2019-07-08T14:23:00.587793Z"
    }
   },
   "outputs": [],
   "source": [
    "import re\n",
    "  \n",
    "line = \"IF_MIB::=Counter32: 12345\\nIF_MIB::=Counter32: 1234556\";\n",
    "result = re.findall( r'(?<=\\:\\s)\\d+$', line, re.M)"
   ]
  },
  {
   "cell_type": "code",
   "execution_count": 82,
   "metadata": {
    "ExecuteTime": {
     "end_time": "2019-07-08T14:23:00.901159Z",
     "start_time": "2019-07-08T14:23:00.592792Z"
    }
   },
   "outputs": [
    {
     "data": {
      "text/plain": [
       "['12345', '1234556']"
      ]
     },
     "execution_count": 82,
     "metadata": {},
     "output_type": "execute_result"
    }
   ],
   "source": [
    "result"
   ]
  },
  {
   "cell_type": "code",
   "execution_count": 83,
   "metadata": {
    "ExecuteTime": {
     "end_time": "2019-07-08T14:23:25.621793Z",
     "start_time": "2019-07-08T14:23:25.618791Z"
    }
   },
   "outputs": [],
   "source": [
    "import fitz\n",
    "from io import BytesIO\n",
    "from PIL import Image"
   ]
  },
  {
   "cell_type": "code",
   "execution_count": 84,
   "metadata": {
    "ExecuteTime": {
     "end_time": "2019-07-08T14:23:26.750150Z",
     "start_time": "2019-07-08T14:23:26.683082Z"
    }
   },
   "outputs": [],
   "source": [
    "doc = fitz.open(path)\n",
    "# png = doc[0].getPixmap(matrix=fitz.Matrix(2,2), alpha=False).getPNGdata()\n",
    "# img = Image.open(BytesIO(png))\n",
    "# img.save('png_from_pdf.png')\n",
    "# img.show()\n",
    "pm = doc[0].getPixmap(matrix=fitz.Matrix(2,2), alpha=False)\n",
    "pm.writePNG('png_from_pdf.png')\n",
    "im2 = cv2.imread('png_from_pdf.png')\n",
    "# decodedObjects = decode(im2)\n",
    "# display(im2, decodedObjects)"
   ]
  },
  {
   "cell_type": "code",
   "execution_count": 85,
   "metadata": {
    "ExecuteTime": {
     "end_time": "2019-07-08T14:23:31.804468Z",
     "start_time": "2019-07-08T14:23:28.939377Z"
    }
   },
   "outputs": [
    {
     "name": "stdout",
     "output_type": "stream",
     "text": [
      "Type :  QRCODE\n",
      "Data :  01,10,021001900111,23763823,85.33,20190322,70446058541415909133,E4CD, \n",
      "\n"
     ]
    }
   ],
   "source": [
    "doc = fitz.open(path)\n",
    "pm = doc[0].getPixmap(matrix=fitz.Matrix(2,2), alpha=False)\n",
    "image_data = pm.getImageData()\n",
    "# image_data = pm.getPNGData()\n",
    "nparr = np.frombuffer(image_data, np.uint8)\n",
    "img_np = cv2.imdecode(nparr, cv2.IMREAD_COLOR)\n",
    "# cv2.imshow(\"Results\", img_np)\n",
    "# cv2.waitKey(0);\n",
    "decodedObjects = decode(img_np)\n",
    "display(img_np, decodedObjects)"
   ]
  },
  {
   "cell_type": "code",
   "execution_count": 11,
   "metadata": {},
   "outputs": [
    {
     "name": "stdout",
     "output_type": "stream",
     "text": [
      "Type :  QRCODE\n",
      "Data :  01,10,021001900111,23763823,85.33,20190322,70446058541415909133,E4CD, \n",
      "\n"
     ]
    }
   ],
   "source": []
  },
  {
   "cell_type": "code",
   "execution_count": 152,
   "metadata": {
    "ExecuteTime": {
     "end_time": "2019-07-14T05:11:05.811877Z",
     "start_time": "2019-07-14T05:11:05.793863Z"
    }
   },
   "outputs": [],
   "source": [
    "#coding: utf-8\n",
    "import fitz\n",
    "# from zbarlight import scan_codes\n",
    "import pyzbar.pyzbar as pyzbar\n",
    "from io import BytesIO\n",
    "from PIL import Image\n",
    "from datetime import datetime\n",
    "import os\n",
    "import re\n",
    "import subprocess\n",
    "import numpy as np\n",
    "\n",
    "class InvoiceExtraction:\n",
    "    qrcode_keys = [\n",
    "        ['f0', 'f1', '发票代码', '发票号码', '金额', '开票日期', '校验码', 'f6'],\n",
    "        ['f0', 'f1', '发票代码', '发票号码', '销售方纳税人识别号', '金额', '开票日期', '校验码'],\n",
    "    ]\n",
    "\n",
    "    regex_element = {\n",
    "        '开票地': re.compile(r'(?P<field>.*增值税电子((普通)|(专用))发票)'),\n",
    "        '价税合计(小写)': re.compile(r'[\\(（]小写[\\)）](.*\\n)*?[¥￥](?P<field>\\d+\\.\\d+)', re.M),\n",
    "        '密码区': re.compile(r'(?P<field>(([0-9/+\\-\\<\\>\\*]\\s?){26,27}[0-9/+\\-\\<\\>\\*]\\n){4})', re.M),\n",
    "        '价税合计(大写)': re.compile(r'(?P<field>[壹贰叁肆伍陆柒捌玖拾]\\s?[零壹贰叁肆伍陆柒捌玖拾佰仟万亿整元圆角分\\s]+[整元圆角分])'),\n",
    "        '购买方纳税人识别号': re.compile(r'纳税人识别号:\\n(.*\\n)*?(?P<field>[0-9a-zA-Z]{18})', re.M)\n",
    "    }\n",
    "\n",
    "    def extract_qrcode_info(self, file_path):\n",
    "        try:\n",
    "            doc = fitz.open(file_path)\n",
    "            png = doc[0].getPixmap(matrix=fitz.Matrix(2,2), alpha=False).getPNGdata()\n",
    "#             img = Image.open(BytesIO(png))\n",
    "#             values = filter(None, scan_codes(['qrcode'], img)[0].decode().split(','))\n",
    "            nparr = np.frombuffer(png, np.uint8)\n",
    "            img_np = cv2.imdecode(nparr, cv2.IMREAD_COLOR)\n",
    "            decodedObjects = pyzbar.decode(img_np)\n",
    "            values = decodedObjects[0].data.decode(encoding='utf-8').split(',')\n",
    "            print(values)\n",
    "            for keys in self.qrcode_keys:\n",
    "                ret = dict(zip(keys, values))\n",
    "                try:\n",
    "                    ret['金额'] = eval(ret['金额'])\n",
    "                    ret['开票日期'] = datetime.strptime(ret['开票日期'], '%Y%m%d').date()\n",
    "                except:\n",
    "                    pass\n",
    "                else:\n",
    "                    break\n",
    "            for key in ['f0', 'f1', 'f6']:\n",
    "                ret.pop(key, None)\n",
    "            ret['values'] = values\n",
    "            return ret\n",
    "        except Exception as e:\n",
    "            print(e)\n",
    "            return {}\n",
    "    \n",
    "    def extract_pdf_info(self, file_path):\n",
    "        try:\n",
    "#             text = subprocess.Popen(['pdf2txt.py', file_path], stdout=subprocess.PIPE).stdout.read().decode('utf-8').replace('\\n\\n','\\n').strip()\n",
    "#             text = subprocess.Popen(['python', 'D:\\\\Anaconda3\\\\envs\\\\myenv\\\\Scripts\\\\pdf2txt.py', file_path], stdout=subprocess.PIPE).stdout.read().decode('utf-8').replace('\\n\\n','\\n').strip()\n",
    "#             result = parse_pdf(file_path)\n",
    "#             text = result['pages'][0].extract_text()\n",
    "            text = parse_pdf_with_PdfMiner3K(path)\n",
    "            \n",
    "            print(text) \n",
    "            \n",
    "            ret = {}\n",
    "            for key in self.regex_element:\n",
    "                mt = self.regex_element[key].search(text)\n",
    "                if mt:\n",
    "                    ret[key] = mt.groupdict()['field']\n",
    "            ret['价税合计(小写)'] = eval(ret.get('价税合计(小写)','None'))\n",
    "            ret['密码区'] = ret.get('密码区','').replace(' ','').replace('\\n','')\n",
    "            ret['价税合计(大写)'] = ret.get('价税合计(大写)','').replace(' ','')\n",
    "            return ret\n",
    "        except Exception as e:\n",
    "            print(e)\n",
    "            return {}\n",
    "\n",
    "    def extract(self, file_path):\n",
    "        ret = dict(self.extract_pdf_info(file_path), **self.extract_qrcode_info(file_path))\n",
    "        ret['文件名'] = os.path.split(file_path)[1]\n",
    "        return ret"
   ]
  },
  {
   "cell_type": "code",
   "execution_count": 153,
   "metadata": {
    "ExecuteTime": {
     "end_time": "2019-07-14T05:11:10.967625Z",
     "start_time": "2019-07-14T05:11:10.964641Z"
    }
   },
   "outputs": [],
   "source": [
    "pdf_file_name = '日用品20190322_98p99'\n",
    "#     pdf_file_name = '日用品20190417_197p98'\n",
    "#     pdf_file_name = '食品20190408_91p8'\n",
    "path = 'data\\\\invoice\\\\{pdf_file_name}.pdf'.format(pdf_file_name=pdf_file_name)"
   ]
  },
  {
   "cell_type": "code",
   "execution_count": 154,
   "metadata": {
    "ExecuteTime": {
     "end_time": "2019-07-14T05:11:11.457944Z",
     "start_time": "2019-07-14T05:11:11.454941Z"
    }
   },
   "outputs": [],
   "source": [
    "ie = InvoiceExtraction()"
   ]
  },
  {
   "cell_type": "code",
   "execution_count": 155,
   "metadata": {
    "ExecuteTime": {
     "end_time": "2019-07-14T05:11:13.775006Z",
     "start_time": "2019-07-14T05:11:13.594332Z"
    }
   },
   "outputs": [
    {
     "name": "stdout",
     "output_type": "stream",
     "text": [
      " 辽宁增值税电子普通发票\n",
      "监票发一统\n",
      "制\n",
      "国\n",
      "全\n",
      "国\n",
      "家税务\n",
      "总\n",
      "局\n",
      "章\n",
      "宁辽\n",
      "省税务\n",
      "局\n",
      "发票代码:\n",
      "021001900111\n",
      "发票号码:\n",
      "23763823\n",
      "开票日期:\n",
      "2019  03  22\n",
      "年\n",
      "月\n",
      "日\n",
      "机器编号:\n",
      "661807100422\n",
      "北京慧远云程科技有限公司\n",
      "91110105306602928Y\n",
      "购\n",
      "买\n",
      "方\n",
      "名        称:\n",
      "纳税人识别号:\n",
      "地 址、电 话:\n",
      "开户行及账号:\n",
      "校 验 码:\n",
      "70446  05854  14159  09133  \n",
      "59+8>9232--*+99+333*-<9/1/-\n",
      "60/4</2*/137<6/0110*0/2<2</\n",
      "/0+9</9*<+*6*1+1+19>+130>-9\n",
      "*09>12>5+/1+/0-><>/0998+95+\n",
      "密\n",
      "码\n",
      "区\n",
      "货物或应税劳务、服务名称      规格型号   单位\n",
      " 数 量\n",
      "   单 价\n",
      "金  额\n",
      "  税率          税  额\n",
      "*纺织产品*天石（HighRock）户外\n",
      "露营情侣左右互拼成人棉睡袋 -10度 \n",
      "右开 天蓝色\n",
      "*纺织产品*天石（HighRock）户外\n",
      "露营情侣左右互拼成人棉睡袋 -10度 \n",
      "右开 天蓝色\n",
      "冷杉\n",
      "1\n",
      "171.55\n",
      "171.55\n",
      "16%\n",
      "-86.22\n",
      "16%\n",
      "合       计\n",
      "价税合计(大写)\n",
      "玖拾捌圆玖角玖分\n",
      "¥85.33\n",
      "(小写)\n",
      "¥98.99\n",
      "销\n",
      "售\n",
      "方\n",
      "名        称:\n",
      "纳税人识别号:\n",
      "地 址、电 话:\n",
      "开户行及账号:\n",
      "沈阳京东世纪贸易有限公司\n",
      "912101125893550575\n",
      "辽宁省沈阳市浑南区麦子屯590-4号102室 024-67859504\n",
      "中国建设银行沈阳市中山支行 21001360008059003247\n",
      "备\n",
      "注\n",
      "订单号:90235270381\n",
      "收款人:\n",
      "京东商城\n",
      "复核:\n",
      "开票人:\n",
      "京东商城\n",
      "销售方:(章)\n",
      "27.45\n",
      "-13.79\n",
      "¥13.66\n",
      " \n",
      " \n",
      " \n",
      " \n",
      " \n",
      " \n",
      " \n",
      " \n",
      " \n",
      " \n",
      " \n",
      " \n",
      " \n",
      " \n",
      " \n",
      " \n",
      " \n",
      " \n",
      " \n",
      " \n",
      " \n",
      " \n",
      " \n",
      " \n",
      " \n",
      " \n",
      " \n",
      " \n",
      " \n",
      " \n",
      " \n",
      " \n",
      " \n",
      " \n",
      " \n",
      " \n",
      " \n",
      " \n",
      " \n",
      " \n",
      " \n",
      " \n",
      " \n",
      " \n",
      " \n",
      " \n",
      " \n",
      " \n",
      " \n",
      " \n",
      " \n",
      " \n",
      " \n",
      " \n",
      " \n",
      " \n",
      " \n",
      " \n",
      " \n",
      " \n",
      " \n",
      " \n",
      " \n",
      " \n",
      " \n",
      " \n",
      " \n",
      " \n",
      " \n",
      " \n",
      " \n",
      " \n",
      " \n",
      " \n",
      " \n",
      " \n",
      " \n",
      " \n",
      " \n",
      " \n",
      " \n",
      " \n",
      " \n",
      " \n",
      "\n"
     ]
    }
   ],
   "source": [
    "# ret = ie.extract(path)\n",
    "result = ie.extract_pdf_info(path)"
   ]
  },
  {
   "cell_type": "code",
   "execution_count": 156,
   "metadata": {
    "ExecuteTime": {
     "end_time": "2019-07-14T05:11:15.273022Z",
     "start_time": "2019-07-14T05:11:14.982246Z"
    }
   },
   "outputs": [
    {
     "name": "stdout",
     "output_type": "stream",
     "text": [
      " 辽宁增值税电子普通发票\n",
      "监票发一统\n",
      "制\n",
      "国\n",
      "全\n",
      "国\n",
      "家税务\n",
      "总\n",
      "局\n",
      "章\n",
      "宁辽\n",
      "省税务\n",
      "局\n",
      "发票代码:\n",
      "021001900111\n",
      "发票号码:\n",
      "23763823\n",
      "开票日期:\n",
      "2019  03  22\n",
      "年\n",
      "月\n",
      "日\n",
      "机器编号:\n",
      "661807100422\n",
      "北京慧远云程科技有限公司\n",
      "91110105306602928Y\n",
      "购\n",
      "买\n",
      "方\n",
      "名        称:\n",
      "纳税人识别号:\n",
      "地 址、电 话:\n",
      "开户行及账号:\n",
      "校 验 码:\n",
      "70446  05854  14159  09133  \n",
      "59+8>9232--*+99+333*-<9/1/-\n",
      "60/4</2*/137<6/0110*0/2<2</\n",
      "/0+9</9*<+*6*1+1+19>+130>-9\n",
      "*09>12>5+/1+/0-><>/0998+95+\n",
      "密\n",
      "码\n",
      "区\n",
      "货物或应税劳务、服务名称      规格型号   单位\n",
      " 数 量\n",
      "   单 价\n",
      "金  额\n",
      "  税率          税  额\n",
      "*纺织产品*天石（HighRock）户外\n",
      "露营情侣左右互拼成人棉睡袋 -10度 \n",
      "右开 天蓝色\n",
      "*纺织产品*天石（HighRock）户外\n",
      "露营情侣左右互拼成人棉睡袋 -10度 \n",
      "右开 天蓝色\n",
      "冷杉\n",
      "1\n",
      "171.55\n",
      "171.55\n",
      "16%\n",
      "-86.22\n",
      "16%\n",
      "合       计\n",
      "价税合计(大写)\n",
      "玖拾捌圆玖角玖分\n",
      "¥85.33\n",
      "(小写)\n",
      "¥98.99\n",
      "销\n",
      "售\n",
      "方\n",
      "名        称:\n",
      "纳税人识别号:\n",
      "地 址、电 话:\n",
      "开户行及账号:\n",
      "沈阳京东世纪贸易有限公司\n",
      "912101125893550575\n",
      "辽宁省沈阳市浑南区麦子屯590-4号102室 024-67859504\n",
      "中国建设银行沈阳市中山支行 21001360008059003247\n",
      "备\n",
      "注\n",
      "订单号:90235270381\n",
      "收款人:\n",
      "京东商城\n",
      "复核:\n",
      "开票人:\n",
      "京东商城\n",
      "销售方:(章)\n",
      "27.45\n",
      "-13.79\n",
      "¥13.66\n",
      " \n",
      " \n",
      " \n",
      " \n",
      " \n",
      " \n",
      " \n",
      " \n",
      " \n",
      " \n",
      " \n",
      " \n",
      " \n",
      " \n",
      " \n",
      " \n",
      " \n",
      " \n",
      " \n",
      " \n",
      " \n",
      " \n",
      " \n",
      " \n",
      " \n",
      " \n",
      " \n",
      " \n",
      " \n",
      " \n",
      " \n",
      " \n",
      " \n",
      " \n",
      " \n",
      " \n",
      " \n",
      " \n",
      " \n",
      " \n",
      " \n",
      " \n",
      " \n",
      " \n",
      " \n",
      " \n",
      " \n",
      " \n",
      " \n",
      " \n",
      " \n",
      " \n",
      " \n",
      " \n",
      " \n",
      " \n",
      " \n",
      " \n",
      " \n",
      " \n",
      " \n",
      " \n",
      " \n",
      " \n",
      " \n",
      " \n",
      " \n",
      " \n",
      " \n",
      " \n",
      " \n",
      " \n",
      " \n",
      " \n",
      " \n",
      " \n",
      " \n",
      " \n",
      " \n",
      " \n",
      " \n",
      " \n",
      " \n",
      " \n",
      "\n",
      "['01', '10', '021001900111', '23763823', '85.33', '20190322', '70446058541415909133', 'E4CD', '']\n"
     ]
    }
   ],
   "source": [
    "pdf_path = 'E:\\\\workspace201809\\\\qInvoiceExtractor\\\\data\\\\invoice\\\\日用品20190407_32p8.pdf'\n",
    "ret = ie.extract(path)"
   ]
  },
  {
   "cell_type": "code",
   "execution_count": 157,
   "metadata": {
    "ExecuteTime": {
     "end_time": "2019-07-14T05:11:16.647199Z",
     "start_time": "2019-07-14T05:11:16.642194Z"
    }
   },
   "outputs": [
    {
     "data": {
      "text/plain": [
       "{'开票地': ' 辽宁增值税电子普通发票',\n",
       " '价税合计(小写)': 98.99,\n",
       " '密码区': '59+8>9232--*+99+333*-<9/1/-60/4</2*/137<6/0110*0/2<2<//0+9</9*<+*6*1+1+19>+130>-9*09>12>5+/1+/0-><>/0998+95+',\n",
       " '价税合计(大写)': '玖拾捌圆玖角玖分',\n",
       " '购买方纳税人识别号': '912101125893550575',\n",
       " '发票代码': '021001900111',\n",
       " '发票号码': '23763823',\n",
       " '金额': 85.33,\n",
       " '开票日期': datetime.date(2019, 3, 22),\n",
       " '校验码': '70446058541415909133',\n",
       " 'values': ['01',\n",
       "  '10',\n",
       "  '021001900111',\n",
       "  '23763823',\n",
       "  '85.33',\n",
       "  '20190322',\n",
       "  '70446058541415909133',\n",
       "  'E4CD',\n",
       "  ''],\n",
       " '文件名': '日用品20190322_98p99.pdf'}"
      ]
     },
     "execution_count": 157,
     "metadata": {},
     "output_type": "execute_result"
    }
   ],
   "source": [
    "ret"
   ]
  },
  {
   "cell_type": "code",
   "execution_count": 158,
   "metadata": {
    "ExecuteTime": {
     "end_time": "2019-07-14T05:11:17.658458Z",
     "start_time": "2019-07-14T05:11:17.542331Z"
    }
   },
   "outputs": [
    {
     "name": "stdout",
     "output_type": "stream",
     "text": [
      "['01', '10', '021001900111', '23763823', '85.33', '20190322', '70446058541415909133', 'E4CD', '']\n"
     ]
    }
   ],
   "source": [
    "qrcode_info = ie.extract_qrcode_info(path)"
   ]
  },
  {
   "cell_type": "code",
   "execution_count": 159,
   "metadata": {
    "ExecuteTime": {
     "end_time": "2019-07-14T05:11:20.206209Z",
     "start_time": "2019-07-14T05:11:20.202206Z"
    }
   },
   "outputs": [
    {
     "data": {
      "text/plain": [
       "{'发票代码': '021001900111',\n",
       " '发票号码': '23763823',\n",
       " '金额': 85.33,\n",
       " '开票日期': datetime.date(2019, 3, 22),\n",
       " '校验码': '70446058541415909133',\n",
       " 'values': ['01',\n",
       "  '10',\n",
       "  '021001900111',\n",
       "  '23763823',\n",
       "  '85.33',\n",
       "  '20190322',\n",
       "  '70446058541415909133',\n",
       "  'E4CD',\n",
       "  '']}"
      ]
     },
     "execution_count": 159,
     "metadata": {},
     "output_type": "execute_result"
    }
   ],
   "source": [
    "qrcode_info"
   ]
  },
  {
   "cell_type": "code",
   "execution_count": 239,
   "metadata": {
    "ExecuteTime": {
     "end_time": "2019-07-16T13:46:07.753298Z",
     "start_time": "2019-07-16T13:46:07.749295Z"
    }
   },
   "outputs": [
    {
     "data": {
      "text/plain": [
       "' 辽宁增值税电子普通发票\\n监票发一统\\n制\\n国\\n全\\n国\\n家税务\\n总\\n局\\n章\\n宁辽\\n省税务\\n局\\n发票代码:\\n021001900111\\n发票号码:\\n23763823\\n开票日期:\\n2019  03  22\\n年\\n月\\n日\\n机器编号:\\n661807100422\\n北京慧远云程科技有限公司\\n91110105306602928Y\\n购\\n买\\n方\\n名        称:\\n纳税人识别号:\\n地 址、电 话:\\n开户行及账号:\\n校 验 码:\\n70446  05854  14159  09133  \\n59+8>9232--*+99+333*-<9/1/-\\n60/4</2*/137<6/0110*0/2<2</\\n/0+9</9*<+*6*1+1+19>+130>-9\\n*09>12>5+/1+/0-><>/0998+95+\\n密\\n码\\n区\\n货物或应税劳务、服务名称      规格型号   单位\\n 数 量\\n   单 价\\n金  额\\n  税率          税  额\\n*纺织产品*天石（HighRock）户外\\n露营情侣左右互拼成人棉睡袋 -10度 \\n右开 天蓝色\\n*纺织产品*天石（HighRock）户外\\n露营情侣左右互拼成人棉睡袋 -10度 \\n右开 天蓝色\\n冷杉\\n1\\n171.55\\n171.55\\n16%\\n-86.22\\n16%\\n合       计\\n价税合计(大写)\\n玖拾捌圆玖角玖分\\n¥85.33\\n(小写)\\n¥98.99\\n销\\n售\\n方\\n名        称:\\n纳税人识别号:\\n地 址、电 话:\\n开户行及账号:\\n沈阳京东世纪贸易有限公司\\n912101125893550575\\n辽宁省沈阳市浑南区麦子屯590-4号102室 024-67859504\\n中国建设银行沈阳市中山支行 21001360008059003247\\n备\\n注\\n订单号:90235270381\\n收款人:\\n京东商城\\n复核:\\n开票人:\\n京东商城\\n销售方:(章)\\n27.45\\n-13.79\\n¥13.66\\n \\n \\n \\n \\n \\n \\n \\n \\n \\n \\n \\n \\n \\n \\n \\n \\n \\n \\n \\n \\n \\n \\n \\n \\n \\n \\n \\n \\n \\n \\n \\n \\n \\n \\n \\n \\n \\n \\n \\n \\n \\n \\n \\n \\n \\n \\n \\n \\n \\n \\n \\n \\n \\n \\n \\n \\n \\n \\n \\n \\n \\n \\n \\n \\n \\n \\n \\n \\n \\n \\n \\n \\n \\n \\n \\n \\n \\n \\n \\n \\n \\n \\n \\n \\n'"
      ]
     },
     "execution_count": 239,
     "metadata": {},
     "output_type": "execute_result"
    }
   ],
   "source": [
    "result2"
   ]
  },
  {
   "cell_type": "code",
   "execution_count": 243,
   "metadata": {
    "ExecuteTime": {
     "end_time": "2019-07-16T13:48:03.712346Z",
     "start_time": "2019-07-16T13:48:03.706341Z"
    }
   },
   "outputs": [
    {
     "data": {
      "text/plain": [
       "'     发票代码:021001900111\\n      辽宁增值税电子普通发票\\n     国 统 一 发票监 发票号码:23763823\\n全 制\\n                 国家税务总局 章 开票日期:2019 年 03 月 22日\\n     机器编号: 661807100422 辽宁省税务局 校 验 码:70446  05854  14159  09133  \\n59+8>9232--*+99+333*-<9/1/-\\n     名        称:北京慧远云程科技有限公司\\n     购 91110105306602928Y 密 60/4</2*/137<6/0110*0/2<2</\\n     纳税人识别号:\\n     买 码 /0+9</9*<+*6*1+1+19>+130>-9\\n     地 址、电 话:\\n方 *09>12>5+/1+/0-><>/0998+95+\\n     区\\n     开户行及账号:\\n                         货物或应税劳务、服务名称      规格型号   单位  数 量    单 价 金  额   税率        税    额\\n*纺织产品*天石（HighRock）户外 冷杉 1 171.55 171.55 16% 27.45\\n露营情侣左右互拼成人棉睡袋 -10度 \\n右开 天蓝色\\n*纺织产品*天石（HighRock）户外 -86.22 16% -13.79\\n露营情侣左右互拼成人棉睡袋 -10度 \\n右开 天蓝色\\n¥85.33 ¥13.66\\n合       计\\n¥98.99\\n价税合计(大写) 玖拾捌圆玖角玖分 (小写)\\n名        称:沈阳京东世纪贸易有限公司 订单号:90235270381\\n销 912101125893550575 备\\n纳税人识别号:\\n售\\n地 址、电 话:辽宁省沈阳市浑南区麦子屯590-4号102室 024-67859504\\n方 注\\n开户行及账号:中国建设银行沈阳市中山支行 21001360008059003247\\n收款人:京东商城 复核: 开票人:京东商城 销售方:(章)'"
      ]
     },
     "execution_count": 243,
     "metadata": {},
     "output_type": "execute_result"
    }
   ],
   "source": [
    "text_pdfplumber = result['pages'][0].extract_text()\n",
    "text_pdfplumber"
   ]
  },
  {
   "cell_type": "code",
   "execution_count": 228,
   "metadata": {
    "ExecuteTime": {
     "end_time": "2019-07-16T13:40:30.343876Z",
     "start_time": "2019-07-16T13:40:30.339872Z"
    }
   },
   "outputs": [],
   "source": [
    "test_regex_element = {\n",
    "        '开票地': re.compile(r'(?P<field>.*增值税电子((普通)|(专用))发票)'),\n",
    "        '价税合计(小写)': re.compile(r'[\\(（]小写[\\)）](.*\\n)*?[¥￥](?P<field>\\d+\\.\\d+)', re.M),\n",
    "        '密码区': re.compile(r'(?P<field>(([0-9/+\\-\\<\\>\\*]\\s?){26,27}[0-9/+\\-\\<\\>\\*]\\n){4})', re.M),\n",
    "        '价税合计(大写)': re.compile(r'(?P<field>[壹贰叁肆伍陆柒捌玖拾]\\s?[零壹贰叁肆伍陆柒捌玖拾佰仟万亿整元圆角分\\s]+[整元圆角分])'),\n",
    "        '购买方纳税人识别号': re.compile(r'纳税人识别号:\\n(.*\\n)*?(?P<field>[0-9a-zA-Z]{18})', re.M)\n",
    "    }"
   ]
  },
  {
   "cell_type": "code",
   "execution_count": 249,
   "metadata": {
    "ExecuteTime": {
     "end_time": "2019-07-16T13:49:54.082933Z",
     "start_time": "2019-07-16T13:49:54.080930Z"
    }
   },
   "outputs": [],
   "source": [
    "test_mt = test_regex_element['购买方纳税人识别号'].search(text_pdfplumber)\n",
    "test_mt"
   ]
  },
  {
   "cell_type": "code",
   "execution_count": 235,
   "metadata": {
    "ExecuteTime": {
     "end_time": "2019-07-16T13:42:08.566751Z",
     "start_time": "2019-07-16T13:42:08.561752Z"
    }
   },
   "outputs": [
    {
     "data": {
      "text/plain": [
       "<re.Match object; span=(566, 574), match='玖拾捌圆玖角玖分'>"
      ]
     },
     "execution_count": 235,
     "metadata": {},
     "output_type": "execute_result"
    }
   ],
   "source": [
    "test_mt"
   ]
  },
  {
   "cell_type": "code",
   "execution_count": 251,
   "metadata": {
    "ExecuteTime": {
     "end_time": "2019-07-16T13:50:25.614197Z",
     "start_time": "2019-07-16T13:50:25.611187Z"
    }
   },
   "outputs": [],
   "source": [
    "test_mt2 = buyer_id_regex.search(text_pdfplumber)"
   ]
  },
  {
   "cell_type": "code",
   "execution_count": 252,
   "metadata": {
    "ExecuteTime": {
     "end_time": "2019-07-16T13:50:26.828265Z",
     "start_time": "2019-07-16T13:50:26.825268Z"
    }
   },
   "outputs": [],
   "source": [
    "test_mt2"
   ]
  },
  {
   "cell_type": "code",
   "execution_count": 253,
   "metadata": {
    "ExecuteTime": {
     "end_time": "2019-07-16T13:50:28.486464Z",
     "start_time": "2019-07-16T13:50:28.475936Z"
    }
   },
   "outputs": [
    {
     "ename": "AttributeError",
     "evalue": "'NoneType' object has no attribute 'groupdict'",
     "output_type": "error",
     "traceback": [
      "\u001b[1;31m---------------------------------------------------------------------------\u001b[0m",
      "\u001b[1;31mAttributeError\u001b[0m                            Traceback (most recent call last)",
      "\u001b[1;32m<ipython-input-253-1cb0c5f5962d>\u001b[0m in \u001b[0;36m<module>\u001b[1;34m\u001b[0m\n\u001b[1;32m----> 1\u001b[1;33m \u001b[0mtest_mt2\u001b[0m\u001b[1;33m.\u001b[0m\u001b[0mgroupdict\u001b[0m\u001b[1;33m(\u001b[0m\u001b[1;33m)\u001b[0m\u001b[1;33m[\u001b[0m\u001b[1;34m'buyerID'\u001b[0m\u001b[1;33m]\u001b[0m\u001b[1;33m\u001b[0m\u001b[1;33m\u001b[0m\u001b[0m\n\u001b[0m",
      "\u001b[1;31mAttributeError\u001b[0m: 'NoneType' object has no attribute 'groupdict'"
     ]
    }
   ],
   "source": [
    "test_mt2.groupdict()['buyerID']"
   ]
  },
  {
   "cell_type": "code",
   "execution_count": null,
   "metadata": {},
   "outputs": [],
   "source": []
  }
 ],
 "metadata": {
  "kernelspec": {
   "display_name": "Python 3",
   "language": "python",
   "name": "python3"
  },
  "language_info": {
   "codemirror_mode": {
    "name": "ipython",
    "version": 3
   },
   "file_extension": ".py",
   "mimetype": "text/x-python",
   "name": "python",
   "nbconvert_exporter": "python",
   "pygments_lexer": "ipython3",
   "version": "3.7.3"
  },
  "latex_envs": {
   "LaTeX_envs_menu_present": true,
   "autoclose": false,
   "autocomplete": true,
   "bibliofile": "biblio.bib",
   "cite_by": "apalike",
   "current_citInitial": 1,
   "eqLabelWithNumbers": true,
   "eqNumInitial": 1,
   "hotkeys": {
    "equation": "Ctrl-E",
    "itemize": "Ctrl-I"
   },
   "labels_anchors": false,
   "latex_user_defs": false,
   "report_style_numbering": false,
   "user_envs_cfg": false
  },
  "toc": {
   "nav_menu": {},
   "number_sections": true,
   "sideBar": true,
   "skip_h1_title": false,
   "toc_cell": false,
   "toc_position": {},
   "toc_section_display": "block",
   "toc_window_display": false
  }
 },
 "nbformat": 4,
 "nbformat_minor": 2
}
