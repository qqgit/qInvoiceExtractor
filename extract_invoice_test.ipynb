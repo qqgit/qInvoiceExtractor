{
 "cells": [
  {
   "cell_type": "code",
   "execution_count": 1,
   "metadata": {},
   "outputs": [],
   "source": [
    "import os\n",
    "import xlrd\n",
    "import re\n",
    "import shutil\n",
    "import sys\n",
    "import threading\n",
    "import time\n",
    "\n",
    "import pdfplumber\n",
    "\n",
    "import pyzbar.pyzbar as pyzbar\n",
    "import numpy as np\n",
    "import cv2"
   ]
  },
  {
   "cell_type": "code",
   "execution_count": 2,
   "metadata": {},
   "outputs": [],
   "source": [
    "def parse_pdf(path):\n",
    "    with pdfplumber.open(path) as pdf:\n",
    "#         first_page = pdf.pages[0]\n",
    "#         print(first_page.chars[0])\n",
    "\n",
    "        for page in pdf.pages:\n",
    "            # 获取当前页面的全部文本信息，包括表格中的文字\n",
    "            # print(page.extract_text())                        \n",
    "        \n",
    "            for table in page.extract_tables():\n",
    "                print(table)\n",
    "                for row in table:\n",
    "                    print(row)\n",
    "                # print('---------- 分割线 ----------')\n",
    "        \n",
    "        pdf.close()\n",
    "        result = {'pages': pdf.pages}\n",
    "        return result"
   ]
  },
  {
   "cell_type": "code",
   "execution_count": 3,
   "metadata": {},
   "outputs": [
    {
     "name": "stdout",
     "output_type": "stream",
     "text": [
      "[['购\\n买\\n方', '名        称:北京慧远云程科技有限公司\\n91110105306602928Y\\n纳税人识别号:\\n地 址、电 话:\\n开户行及账号:', None, None, None, None, '密\\n码\\n区', '59+8>9232--*+99+333*-<9/1/-\\n60/4</2*/137<6/0110*0/2<2</\\n/0+9</9*<+*6*1+1+19>+130>-9\\n*09>12>5+/1+/0-><>/0998+95+', None, None, None], ['货物或应税劳务、服务名称     \\n*纺织产品*天石（HighRock）户外\\n露营情侣左右互拼成人棉睡袋 -10度 \\n右开 天蓝色\\n*纺织产品*天石（HighRock）户外\\n露营情侣左右互拼成人棉睡袋 -10度 \\n右开 天蓝色\\n合       计', None, '规格型号 \\n冷杉', '单位', '数 量\\n1', '单 价\\n171.55', None, None, '金  额  \\n171.55\\n-86.22\\n¥85.33', '税率\\n16%\\n16%', '税    额\\n27.45\\n-13.79\\n¥13.66'], ['价税合计(大写)', None, '¥98.99\\n玖拾捌圆玖角玖分 (小写)', None, None, None, None, None, None, None, None], ['销\\n售\\n方', '名        称:沈阳京东世纪贸易有限公司\\n912101125893550575\\n纳税人识别号:\\n地 址、电 话:辽宁省沈阳市浑南区麦子屯590-4号102室 024-67859504\\n开户行及账号:中国建设银行沈阳市中山支行 21001360008059003247', None, None, None, None, '备\\n注', '订单号:90235270381', None, None, None]]\n",
      "['购\\n买\\n方', '名        称:北京慧远云程科技有限公司\\n91110105306602928Y\\n纳税人识别号:\\n地 址、电 话:\\n开户行及账号:', None, None, None, None, '密\\n码\\n区', '59+8>9232--*+99+333*-<9/1/-\\n60/4</2*/137<6/0110*0/2<2</\\n/0+9</9*<+*6*1+1+19>+130>-9\\n*09>12>5+/1+/0-><>/0998+95+', None, None, None]\n",
      "['货物或应税劳务、服务名称     \\n*纺织产品*天石（HighRock）户外\\n露营情侣左右互拼成人棉睡袋 -10度 \\n右开 天蓝色\\n*纺织产品*天石（HighRock）户外\\n露营情侣左右互拼成人棉睡袋 -10度 \\n右开 天蓝色\\n合       计', None, '规格型号 \\n冷杉', '单位', '数 量\\n1', '单 价\\n171.55', None, None, '金  额  \\n171.55\\n-86.22\\n¥85.33', '税率\\n16%\\n16%', '税    额\\n27.45\\n-13.79\\n¥13.66']\n",
      "['价税合计(大写)', None, '¥98.99\\n玖拾捌圆玖角玖分 (小写)', None, None, None, None, None, None, None, None]\n",
      "['销\\n售\\n方', '名        称:沈阳京东世纪贸易有限公司\\n912101125893550575\\n纳税人识别号:\\n地 址、电 话:辽宁省沈阳市浑南区麦子屯590-4号102室 024-67859504\\n开户行及账号:中国建设银行沈阳市中山支行 21001360008059003247', None, None, None, None, '备\\n注', '订单号:90235270381', None, None, None]\n"
     ]
    }
   ],
   "source": [
    "pdf_file_name = '日用品20190322_98p99'\n",
    "#     pdf_file_name = '日用品20190417_197p98'\n",
    "#     pdf_file_name = '食品20190408_91p8'\n",
    "path = 'data\\\\invoice\\\\{pdf_file_name}.pdf'.format(pdf_file_name=pdf_file_name)\n",
    "output_path = 'data\\\\result\\\\{pdf_file_name}.txt'.format(pdf_file_name=pdf_file_name)\n",
    "result = parse_pdf(path)"
   ]
  },
  {
   "cell_type": "code",
   "execution_count": 4,
   "metadata": {},
   "outputs": [],
   "source": [
    "def decode(im) : \n",
    "  # Find barcodes and QR codes\n",
    "  decodedObjects = pyzbar.decode(im)\n",
    " \n",
    "  # Print results\n",
    "  for obj in decodedObjects:\n",
    "    print('Type : ', obj.type)\n",
    "    print('Data : ', obj.data.decode(encoding='utf-8'),'\\n')\n",
    "     \n",
    "  return decodedObjects\n",
    "# Display barcode and QR code location  \n",
    "def display(im, decodedObjects):\n",
    " \n",
    "  # Loop over all decoded objects\n",
    "  for decodedObject in decodedObjects: \n",
    "    points = decodedObject.polygon\n",
    " \n",
    "    # If the points do not form a quad, find convex hull\n",
    "    if len(points) > 4 : \n",
    "      hull = cv2.convexHull(np.array([point for point in points], dtype=np.float32))\n",
    "      hull = list(map(tuple, np.squeeze(hull)))\n",
    "    else : \n",
    "      hull = points;\n",
    "     \n",
    "    # Number of points in the convex hull\n",
    "    n = len(hull)\n",
    " \n",
    "    # Draw the convext hull\n",
    "    for j in range(0,n):\n",
    "      cv2.line(im, hull[j], hull[ (j+1) % n], (255,0,0), 3)\n",
    " \n",
    "  # Display results \n",
    "  cv2.imshow(\"Results\", im);\n",
    "  cv2.waitKey(0);"
   ]
  },
  {
   "cell_type": "code",
   "execution_count": 5,
   "metadata": {},
   "outputs": [],
   "source": [
    "import qrcode\n",
    "img = qrcode.make('hello, 中文qrcode测试')\n",
    "img.save('zbar-test.png')"
   ]
  },
  {
   "cell_type": "code",
   "execution_count": 6,
   "metadata": {},
   "outputs": [
    {
     "name": "stdout",
     "output_type": "stream",
     "text": [
      "Type :  QRCODE\n",
      "Data :  hello, 中文qrcode测试 \n",
      "\n"
     ]
    }
   ],
   "source": [
    "# Read image\n",
    "im = cv2.imread('zbar-test.png')\n",
    "\n",
    "decodedObjects = decode(im)\n",
    "display(im, decodedObjects)"
   ]
  },
  {
   "cell_type": "code",
   "execution_count": 7,
   "metadata": {},
   "outputs": [],
   "source": [
    "import re\n",
    "  \n",
    "line = \"IF_MIB::=Counter32: 12345\\nIF_MIB::=Counter32: 1234556\";\n",
    "result = re.findall( r'(?<=\\:\\s)\\d+$', line, re.M)"
   ]
  },
  {
   "cell_type": "code",
   "execution_count": 8,
   "metadata": {},
   "outputs": [
    {
     "data": {
      "text/plain": [
       "['12345', '1234556']"
      ]
     },
     "execution_count": 8,
     "metadata": {},
     "output_type": "execute_result"
    }
   ],
   "source": [
    "result"
   ]
  },
  {
   "cell_type": "code",
   "execution_count": 9,
   "metadata": {},
   "outputs": [],
   "source": [
    "import fitz\n",
    "from io import BytesIO\n",
    "from PIL import Image"
   ]
  },
  {
   "cell_type": "code",
   "execution_count": 90,
   "metadata": {
    "ExecuteTime": {
     "end_time": "2019-06-25T15:53:27.959009Z",
     "start_time": "2019-06-25T15:53:27.894456Z"
    }
   },
   "outputs": [],
   "source": [
    "doc = fitz.open(path)\n",
    "# png = doc[0].getPixmap(matrix=fitz.Matrix(2,2), alpha=False).getPNGdata()\n",
    "# img = Image.open(BytesIO(png))\n",
    "# img.save('png_from_pdf.png')\n",
    "# img.show()\n",
    "pm = doc[0].getPixmap(matrix=fitz.Matrix(2,2), alpha=False)\n",
    "pm.writePNG('png_from_pdf.png')\n",
    "im2 = cv2.imread('png_from_pdf.png')\n",
    "# decodedObjects = decode(im2)\n",
    "# display(im2, decodedObjects)"
   ]
  },
  {
   "cell_type": "code",
   "execution_count": 91,
   "metadata": {
    "ExecuteTime": {
     "end_time": "2019-06-25T15:53:28.662236Z",
     "start_time": "2019-06-25T15:53:28.598094Z"
    }
   },
   "outputs": [],
   "source": [
    "doc = fitz.open(path)\n",
    "pm = doc[0].getPixmap(matrix=fitz.Matrix(2,2), alpha=False)\n",
    "image_data = pm.getImageData()\n",
    "# image_data = pm.getPNGData()\n",
    "nparr = np.frombuffer(image_data, np.uint8)\n",
    "img_np = cv2.imdecode(nparr, cv2.IMREAD_COLOR)\n",
    "# cv2.imshow(\"Results\", img_np)\n",
    "# cv2.waitKey(0);\n",
    "# decodedObjects = decode(img_np)\n",
    "# display(img_np, decodedObjects)"
   ]
  },
  {
   "cell_type": "code",
   "execution_count": 11,
   "metadata": {},
   "outputs": [
    {
     "name": "stdout",
     "output_type": "stream",
     "text": [
      "Type :  QRCODE\n",
      "Data :  01,10,021001900111,23763823,85.33,20190322,70446058541415909133,E4CD, \n",
      "\n"
     ]
    }
   ],
   "source": []
  },
  {
   "cell_type": "code",
   "execution_count": null,
   "metadata": {},
   "outputs": [],
   "source": []
  },
  {
   "cell_type": "code",
   "execution_count": 27,
   "metadata": {},
   "outputs": [],
   "source": []
  },
  {
   "cell_type": "code",
   "execution_count": 31,
   "metadata": {},
   "outputs": [],
   "source": []
  },
  {
   "cell_type": "code",
   "execution_count": 18,
   "metadata": {},
   "outputs": [],
   "source": []
  },
  {
   "cell_type": "code",
   "execution_count": 13,
   "metadata": {},
   "outputs": [],
   "source": []
  },
  {
   "cell_type": "code",
   "execution_count": null,
   "metadata": {},
   "outputs": [],
   "source": []
  }
 ],
 "metadata": {
  "kernelspec": {
   "display_name": "Python 3",
   "language": "python",
   "name": "python3"
  },
  "language_info": {
   "codemirror_mode": {
    "name": "ipython",
    "version": 3
   },
   "file_extension": ".py",
   "mimetype": "text/x-python",
   "name": "python",
   "nbconvert_exporter": "python",
   "pygments_lexer": "ipython3",
   "version": "3.7.3"
  },
  "latex_envs": {
   "LaTeX_envs_menu_present": true,
   "autoclose": false,
   "autocomplete": true,
   "bibliofile": "biblio.bib",
   "cite_by": "apalike",
   "current_citInitial": 1,
   "eqLabelWithNumbers": true,
   "eqNumInitial": 1,
   "hotkeys": {
    "equation": "Ctrl-E",
    "itemize": "Ctrl-I"
   },
   "labels_anchors": false,
   "latex_user_defs": false,
   "report_style_numbering": false,
   "user_envs_cfg": false
  },
  "toc": {
   "nav_menu": {},
   "number_sections": true,
   "sideBar": true,
   "skip_h1_title": false,
   "toc_cell": false,
   "toc_position": {},
   "toc_section_display": "block",
   "toc_window_display": false
  }
 },
 "nbformat": 4,
 "nbformat_minor": 2
}
