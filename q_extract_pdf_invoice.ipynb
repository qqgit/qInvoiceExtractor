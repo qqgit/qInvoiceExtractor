{
 "cells": [
  {
   "cell_type": "code",
   "execution_count": 11,
   "metadata": {
    "ExecuteTime": {
     "end_time": "2019-07-19T14:32:43.638467Z",
     "start_time": "2019-07-19T14:32:43.621470Z"
    }
   },
   "outputs": [],
   "source": [
    "#coding: utf-8\n",
    "import os\n",
    "import xlrd\n",
    "import re\n",
    "import shutil\n",
    "import sys\n",
    "import threading\n",
    "import time\n",
    "from datetime import datetime\n",
    "\n",
    "import pdfplumber\n",
    "\n",
    "import pyzbar.pyzbar as pyzbar\n",
    "import numpy as np\n",
    "import pandas as pd\n",
    "import cv2\n",
    "import fitz\n",
    "from io import BytesIO\n",
    "from PIL import Image\n",
    "import qrcode"
   ]
  },
  {
   "cell_type": "code",
   "execution_count": 12,
   "metadata": {
    "ExecuteTime": {
     "end_time": "2019-07-19T14:32:44.560615Z",
     "start_time": "2019-07-19T14:32:44.549608Z"
    }
   },
   "outputs": [],
   "source": [
    "from pdfminer.pdfparser import PDFParser\n",
    "from pdfminer.pdfdocument import PDFDocument, PDFNoOutlines\n",
    "from pdfminer.pdfpage import PDFPage\n",
    "from pdfminer.pdfinterp import PDFResourceManager, PDFPageInterpreter\n",
    "from pdfminer.converter import PDFPageAggregator\n",
    "from pdfminer.layout import LAParams, LTTextBox, LTTextLine, LTFigure, LTImage, LTChar\n",
    "\n",
    "def parse_pdf_with_PdfMiner3K(path):\n",
    "    with open(path, 'rb') as fp:\n",
    "        parser = PDFParser(fp)\n",
    "        doc = PDFDocument(parser)\n",
    "        parser.set_document(doc)\n",
    "#         doc.set_parser(parser)\n",
    "#         doc.initialize('')\n",
    "        rsrcmgr = PDFResourceManager()\n",
    "        laparams = LAParams()\n",
    "        laparams.char_margin = 1.0\n",
    "        laparams.word_margin = 1.0\n",
    "        device = PDFPageAggregator(rsrcmgr, laparams=laparams)\n",
    "        interpreter = PDFPageInterpreter(rsrcmgr, device)\n",
    "        extracted_text = ''\n",
    "        for i,page in enumerate(PDFPage.create_pages(doc)):\n",
    "            interpreter.process_page(page)\n",
    "            layout = device.get_result()\n",
    "            for lt_obj in layout:\n",
    "                if isinstance(lt_obj, LTTextBox) or isinstance(lt_obj, LTTextLine):\n",
    "                    extracted_text += lt_obj.get_text()\n",
    "    return extracted_text"
   ]
  },
  {
   "cell_type": "code",
   "execution_count": null,
   "metadata": {},
   "outputs": [],
   "source": []
  },
  {
   "cell_type": "code",
   "execution_count": 69,
   "metadata": {
    "ExecuteTime": {
     "end_time": "2019-07-19T15:22:22.211250Z",
     "start_time": "2019-07-19T15:22:22.181229Z"
    }
   },
   "outputs": [],
   "source": [
    "\n",
    "class QPDFInvoiceExtraction:\n",
    "    qrcode_keys = [\n",
    "        ['s0', 's1', '发票代码', '发票号码', '金额', '开票日期', '校验码', 's7'],\n",
    "        ['s0', 's1', '发票代码', '发票号码', '销售方税号', '金额', '开票日期', '校验码'],\n",
    "    ]\n",
    "    \n",
    "    local_regex_search_dict = {\n",
    "        '购买方税号' : re.compile(r'购\\s*买\\s*方.*(?P<field>[0-9a-zA-Z]{18}).*地\\s*址\\s*、\\s*电\\s*话', re.S),\n",
    "        '购买方名称' : re.compile(r'购\\s*买\\s*方.*名\\s*称:(?P<field>.*)\\n*', re.M),\n",
    "        '价税合计(小写)': re.compile(r'价税合计.*[¥￥](?P<field>\\d+\\.\\d+)', re.S),\n",
    "        '价税合计(大写)': re.compile(r'(?P<field>[壹贰叁肆伍陆柒捌玖拾]\\s?[零壹贰叁肆伍陆柒捌玖拾佰仟万亿整元圆角分\\s]+[整元圆角分])'),\n",
    "        '销售方税号': re.compile(r'销\\s*售\\s*方.*(?P<field>[0-9a-zA-Z]{18}).*地\\s*址\\s*、\\s*电\\s*话', re.S),\n",
    "        '销售方名称' : re.compile(r'销\\s*售\\s*方.*名\\s*称:(?P<field>.*)\\n*', re.M),\n",
    "    }\n",
    "\n",
    "    global_regex_search_dict = {\n",
    "        '开票地': re.compile(r'(?P<field>.*增值税电子((普通)|(专用))发票)'),\n",
    "        '购买方税号' : re.compile(r'购\\s*买\\s*方.*(?P<field>[0-9a-zA-Z]{18}).*地\\s*址\\s*、\\s*电\\s*话', re.S),\n",
    "        '购买方名称' : re.compile(r'购\\s*买\\s*方.*名\\s*称:(?P<field>.*)\\n*', re.M),\n",
    "        '价税合计(小写)': re.compile(r'价税合计.*[¥￥](?P<field>\\d+\\.\\d+)', re.S),\n",
    "        '价税合计(大写)': re.compile(r'(?P<field>[壹贰叁肆伍陆柒捌玖拾]\\s?[零壹贰叁肆伍陆柒捌玖拾佰仟万亿整元圆角分\\s]+[整元圆角分])'),\n",
    "        '销售方税号': re.compile(r'销\\s*售\\s*方.*(?P<field>[0-9a-zA-Z]{18}).*地\\s*址\\s*、\\s*电\\s*话', re.S),\n",
    "        '销售方名称' : re.compile(r'销\\s*售\\s*方.*名\\s*称:(?P<field>.*)\\n*', re.M),\n",
    "    }\n",
    "    \n",
    "    global_regex_findall_dict = {\n",
    "        '税号列表' : re.compile(r'纳税人识别号(:|：)\\s*(?P<field>[0-9a-zA-Z]{18})\\s+', re.M),\n",
    "        '名称列表' : re.compile(r'名.*称(:|：)\\s*(?P<field>\\S*)\\s+', re.M),\n",
    "    }\n",
    "\n",
    "    \n",
    "    \n",
    "    # Display barcode and QR code location in image \n",
    "    def q_display(self, img):\n",
    "        decodedObjects = pyzbar.decode(img)\n",
    "        # Loop over all decoded objects\n",
    "        for decodedObject in decodedObjects: \n",
    "            points = decodedObject.polygon\n",
    "\n",
    "            # If the points do not form a quad, find convex hull\n",
    "            if len(points) > 4 : \n",
    "                convexHull = cv2.convexHull(np.array([point for point in points], dtype=np.float32))\n",
    "                convexHull = list(map(tuple, np.squeeze(convexHull)))\n",
    "            else : \n",
    "                convexHull = points;\n",
    "\n",
    "            # Number of points in the convex hull\n",
    "            n = len(convexHull)\n",
    "\n",
    "            # Draw the convext hull\n",
    "            for j in range(0,n):\n",
    "                cv2.line(img, convexHull[j], convexHull[ (j+1) % n], (255,0,0), 3)\n",
    "\n",
    "        # Display results \n",
    "        cv2.imshow(\"Results\", img);\n",
    "        cv2.waitKey(0);\n",
    "\n",
    "    def q_extract_qrcode_info(self, file_path, display=False):\n",
    "        try:\n",
    "            doc = fitz.open(file_path)\n",
    "            png = doc[0].getPixmap(matrix=fitz.Matrix(2,2), alpha=False).getPNGdata()\n",
    "            nparr = np.frombuffer(png, np.uint8)\n",
    "            img_np = cv2.imdecode(nparr, cv2.IMREAD_COLOR)\n",
    "            decodedObjects = pyzbar.decode(img_np)\n",
    "            values = decodedObjects[0].data.decode(encoding='utf-8').split(',')\n",
    "            if(display):\n",
    "                self.q_display(img_np)\n",
    "            print(values)\n",
    "            for keys in self.qrcode_keys:\n",
    "                ret = dict(zip(keys, values))\n",
    "                try:\n",
    "                    ret['金额'] = eval(ret['金额'])\n",
    "                    ret['开票日期'] = datetime.strptime(ret['开票日期'], '%Y%m%d').date()\n",
    "                except:\n",
    "                    pass\n",
    "                else:\n",
    "                    break\n",
    "            for key in ['s0', 's1', 's7']:\n",
    "                ret.pop(key, None)\n",
    "            return ret\n",
    "        except Exception as e:\n",
    "            print(e)\n",
    "            return {}\n",
    "    \n",
    "    def q_extract_pdf_info(self, file_path):\n",
    "        try:\n",
    "#             text = subprocess.Popen(['pdf2txt.py', file_path], stdout=subprocess.PIPE).stdout.read().decode('utf-8').replace('\\n\\n','\\n').strip()\n",
    "#             text = subprocess.Popen(['python', 'D:\\\\Anaconda3\\\\envs\\\\myenv\\\\Scripts\\\\pdf2txt.py', file_path], stdout=subprocess.PIPE).stdout.read().decode('utf-8').replace('\\n\\n','\\n').strip()\n",
    "#             result = parse_pdf(file_path)\n",
    "#             text = result['pages'][0].extract_text()\n",
    "#             text = parse_pdf_with_PdfMiner3K(path)\n",
    "            with pdfplumber.open(file_path) as pdf:\n",
    "                page0 = pdf.pages[0]\n",
    "                text = page0.extract_text()\n",
    "                tables = page0.extract_tables()\n",
    "#                 print(text)\n",
    "#                 print('-'*10)\n",
    "#                 for table in tables:\n",
    "#                     for row in table:\n",
    "#                         print(row)\n",
    "                pdf.close()\n",
    "            \n",
    "            \n",
    "            \n",
    "            ret = {}\n",
    "            # search local tables\n",
    "            for key in self.local_regex_search_dict:\n",
    "                for table in tables[0]:\n",
    "                    cleaned_table_text_list = [info for info in table if info is not None]\n",
    "                    cleaned_table_text = ''.join(cleaned_table_text_list)\n",
    "                    mt = self.local_regex_search_dict[key].search(cleaned_table_text)\n",
    "                    if mt and (ret.get(key,'')==''):\n",
    "                        ret[key] = mt.groupdict()['field']\n",
    "                        ret[key] = ret.get(key,'').replace(' ','')\n",
    "                        break\n",
    "            # search global text\n",
    "            for key in self.global_regex_search_dict:\n",
    "                mt = self.global_regex_search_dict[key].search(text)\n",
    "                if mt and (ret.get(key,'')==''):\n",
    "                    ret[key] = mt.groupdict()['field']\n",
    "                    ret[key] = ret.get(key,'').replace(' ','')\n",
    "            # findall global text\n",
    "            mt = self.global_regex_findall_dict['税号列表'].findall(text)\n",
    "            if mt and (ret.get('购买方税号','')=='' or ret.get('销售方税号','')==''):\n",
    "                if len(mt)==2:\n",
    "                    ret['购买方税号'] = mt[0][1].replace(' ','')\n",
    "                    ret['销售方税号'] = mt[1][1].replace(' ','')\n",
    "            mt = self.global_regex_findall_dict['名称列表'].findall(text)\n",
    "            if mt and (ret.get('购买方名称','')=='' or ret.get('销售方名称','')==''):\n",
    "                if len(mt)==2:\n",
    "                    ret['购买方名称'] = mt[0][1].replace(' ','')\n",
    "                    ret['销售方名称'] = mt[1][1].replace(' ','')\n",
    "                \n",
    "            return ret\n",
    "        except Exception as e:\n",
    "            print(e)\n",
    "            return {}\n",
    "\n",
    "    def q_extract(self, file_path):\n",
    "        ret = dict(self.q_extract_pdf_info(file_path), **self.q_extract_qrcode_info(file_path))\n",
    "        ret['文件名'] = os.path.split(file_path)[1]\n",
    "        return ret"
   ]
  },
  {
   "cell_type": "code",
   "execution_count": 81,
   "metadata": {
    "ExecuteTime": {
     "end_time": "2019-07-19T15:22:54.850418Z",
     "start_time": "2019-07-19T15:22:54.843412Z"
    }
   },
   "outputs": [],
   "source": [
    "def q_extract_pdf_invoices(input_dir='./', output_file='output.xlsx', recursive=True, normalize=False):\n",
    "    ie = QPDFInvoiceExtraction()\n",
    "\n",
    "    df = []\n",
    "    for root, folders, files in os.walk(input_dir):\n",
    "        for file_name in files:\n",
    "            if file_name.endswith('.pdf'):\n",
    "                src_pdf = os.path.join(root, file_name)\n",
    "                ret = ie.q_extract(src_pdf)\n",
    "                df.append(ret)\n",
    "                if normalize and '发票号码' in ret and '价税合计(小写)' in ret:\n",
    "                    dst_pdf = os.path.join(root, '%s_%s.pdf'%(ret['发票号码'], ret['价税合计(小写)']))\n",
    "                    os.rename(src_pdf, dst_pdf)\n",
    "        if not recursive:\n",
    "            break\n",
    "    \n",
    "    pd.DataFrame(df).to_excel(output_file, index=False)"
   ]
  },
  {
   "cell_type": "code",
   "execution_count": 82,
   "metadata": {
    "ExecuteTime": {
     "end_time": "2019-07-19T15:23:01.400894Z",
     "start_time": "2019-07-19T15:22:58.917191Z"
    }
   },
   "outputs": [
    {
     "name": "stdout",
     "output_type": "stream",
     "text": [
      "['01', '10', '011001900111', '89750186', '109.17', '20190306', '62121462210420364099', '53C8', '']\n",
      "['01', '10', '021001900111', '23763823', '85.33', '20190322', '70446058541415909133', 'E4CD', '']\n",
      "['01', '10', '011001900111', '91893712', '1238.00', '20190406', '80411517403942583178', 'BFC6', '']\n",
      "['01', '10', '011001900111', '41971196', '29.03', '20190407', '58931841401388187442', '154C', '']\n",
      "['01', '10', '012001800311', '61399056', '113.84', '20190511', '12169070313878525689', '384D', '']\n",
      "['01', '10', '037021800211', '35124513', '188.80', '20190322', '58045030901365657124', '5BE7', '']\n",
      "['01', '10', '012001800111', '77169995', '132.04', '20190511', '17894245662825932250', '568B', '']\n",
      "['01', '10', '013001720011', '68461693', '77.07', '20190312', '49041258811560453196', '0DCA', '']\n",
      "['01', '10', '037021800211', '37273696', '111.03', '20190328', '66581827951932721688', '758C', '']\n",
      "['01', '10', '050001800111', '33395352', '26.42', '20190415', '54394378043250846173', '4CCC']\n"
     ]
    }
   ],
   "source": [
    "q_extract_pdf_invoices('data/invoice')"
   ]
  },
  {
   "cell_type": "code",
   "execution_count": 71,
   "metadata": {
    "ExecuteTime": {
     "end_time": "2019-07-19T15:22:23.966258Z",
     "start_time": "2019-07-19T15:22:23.963272Z"
    }
   },
   "outputs": [],
   "source": [
    "# pdf_file_name = '日用品20190322_98p99'\n",
    "pdf_file_name = '滴滴电子发票20190404_117p26'\n",
    "# pdf_file_name = '飞常准用车电子发票20190419_136'\n",
    "#     pdf_file_name = '日用品20190417_197p98'\n",
    "#     pdf_file_name = '食品20190408_91p8'\n",
    "path = 'data\\\\invoice\\\\{pdf_file_name}.pdf'.format(pdf_file_name=pdf_file_name)"
   ]
  },
  {
   "cell_type": "code",
   "execution_count": 72,
   "metadata": {
    "ExecuteTime": {
     "end_time": "2019-07-19T15:22:25.143888Z",
     "start_time": "2019-07-19T15:22:25.029270Z"
    }
   },
   "outputs": [
    {
     "name": "stdout",
     "output_type": "stream",
     "text": [
      "['01', '10', '012001800311', '61399056', '113.84', '20190511', '12169070313878525689', '384D', '']\n"
     ]
    },
    {
     "data": {
      "text/plain": [
       "{'发票代码': '012001800311',\n",
       " '发票号码': '61399056',\n",
       " '金额': 113.84,\n",
       " '开票日期': datetime.date(2019, 5, 11),\n",
       " '校验码': '12169070313878525689'}"
      ]
     },
     "execution_count": 72,
     "metadata": {},
     "output_type": "execute_result"
    }
   ],
   "source": [
    "ie = QPDFInvoiceExtraction()\n",
    "ie.q_extract_qrcode_info(path, False)"
   ]
  },
  {
   "cell_type": "code",
   "execution_count": 73,
   "metadata": {
    "ExecuteTime": {
     "end_time": "2019-07-19T15:22:26.229555Z",
     "start_time": "2019-07-19T15:22:26.158504Z"
    }
   },
   "outputs": [
    {
     "data": {
      "text/plain": [
       "{'开票地': '天津增值税电子普通发票',\n",
       " '价税合计(小写)': '117.26',\n",
       " '价税合计(大写)': '壹佰壹拾柒圆贰角陆分',\n",
       " '购买方税号': '91110105306602928Y',\n",
       " '销售方税号': '911201163409833307',\n",
       " '购买方名称': '北京慧远云程科技有限公司',\n",
       " '销售方名称': '滴滴出行科技有限公司'}"
      ]
     },
     "execution_count": 73,
     "metadata": {},
     "output_type": "execute_result"
    }
   ],
   "source": [
    "ie.q_extract_pdf_info(path)"
   ]
  },
  {
   "cell_type": "code",
   "execution_count": 74,
   "metadata": {
    "ExecuteTime": {
     "end_time": "2019-07-19T15:22:36.122492Z",
     "start_time": "2019-07-19T15:22:35.939328Z"
    }
   },
   "outputs": [
    {
     "name": "stdout",
     "output_type": "stream",
     "text": [
      "['01', '10', '012001800311', '61399056', '113.84', '20190511', '12169070313878525689', '384D', '']\n"
     ]
    },
    {
     "data": {
      "text/plain": [
       "{'开票地': '天津增值税电子普通发票',\n",
       " '价税合计(小写)': '117.26',\n",
       " '价税合计(大写)': '壹佰壹拾柒圆贰角陆分',\n",
       " '购买方税号': '91110105306602928Y',\n",
       " '销售方税号': '911201163409833307',\n",
       " '购买方名称': '北京慧远云程科技有限公司',\n",
       " '销售方名称': '滴滴出行科技有限公司',\n",
       " '发票代码': '012001800311',\n",
       " '发票号码': '61399056',\n",
       " '金额': 113.84,\n",
       " '开票日期': datetime.date(2019, 5, 11),\n",
       " '校验码': '12169070313878525689',\n",
       " '文件名': '滴滴电子发票20190404_117p26.pdf'}"
      ]
     },
     "execution_count": 74,
     "metadata": {},
     "output_type": "execute_result"
    }
   ],
   "source": [
    "ie.q_extract(path)"
   ]
  },
  {
   "cell_type": "code",
   "execution_count": 75,
   "metadata": {
    "ExecuteTime": {
     "end_time": "2019-07-19T15:22:41.965549Z",
     "start_time": "2019-07-19T15:22:41.845868Z"
    }
   },
   "outputs": [
    {
     "data": {
      "text/plain": [
       "'机器编号:\\n499099801283\\n购\\n买\\n方\\n名\\u3000\\u3000\\u3000\\u3000称:\\n纳税人识别号:\\n北京慧远云程科技有限公司\\n91110105306602928Y\\n地 址、\\n电 话:\\n开户行及账号:\\n天津增值税电子普通发票\\n发票代码:\\n发票号码:\\n开票日期:\\n校验码:\\n012001800311\\n61399056\\n2019年05月11日\\n12169 07031 38785 25689\\n密\\n码\\n区\\n0316962*6+4-668437811-4--04-\\n00068797/13-<*7+/673<-/81/42\\n//61-6*58>84*86876637681+5>-\\n>*65//95+6010+2319*<>28+785>\\n货物或应税劳务、服务名称\\n规格型号\\n*运输服务*客运服务费\\n无\\n单位\\n次\\n数\\u3000量\\n单\\u3000价\\n金\\u3000额\\n1\\n113.84\\n113.84\\n税率\\n3%\\n税\\u3000额\\n3.42\\n合\\n计\\n价税合计（大写）\\n壹佰壹拾柒圆贰角陆分\\n￥113.84\\n￥3.42\\n（小写）\\n￥117.26\\n销\\n售\\n方\\n名\\u3000\\u3000\\u3000\\u3000称:\\n纳税人识别号:\\n地 址、\\n电 话:\\n滴滴出行科技有限公司\\n911201163409833307\\n天津经济技术开发区南港工业区综合服务区办公楼C座103室12单元022-59002850\\n开户行及账号:\\n招商银行股份有限公司天津自由贸易试验区分行122905939910401\\n备\\n注\\n收 款 人:\\n张力强\\n复 核:\\n蔡静\\n开 票 人:\\n王秀丽\\n销 售 方:（章）\\n'"
      ]
     },
     "execution_count": 75,
     "metadata": {},
     "output_type": "execute_result"
    }
   ],
   "source": [
    "text_3k = parse_pdf_with_PdfMiner3K(path)\n",
    "text_3k"
   ]
  },
  {
   "cell_type": "code",
   "execution_count": 76,
   "metadata": {
    "ExecuteTime": {
     "end_time": "2019-07-19T15:22:43.447282Z",
     "start_time": "2019-07-19T15:22:43.442778Z"
    }
   },
   "outputs": [
    {
     "name": "stdout",
     "output_type": "stream",
     "text": [
      "<re.Match object; span=(40, 73), match='\\n北京慧远云程科技有限公司\\n91110105306602928Y\\n'>\n",
      "北京慧远云程科技有限公司\n"
     ]
    }
   ],
   "source": [
    "# re_test = re.compile(r'购\\s*买\\s*方\\n(.*\\n)*?(?P<field>[0-9a-zA-Z]{18})', re.M)\n",
    "re_test = re.compile(r'(.*\\n)*\\n(?P<field>.*)\\n[0-9a-zA-Z]{18}\\n', re.M)\n",
    "# re_test = re.compile(r'销\\s*售\\s*方\\n(.*\\n)*?(?P<field>[0-9a-zA-Z]{18})', re.M)\n",
    "# re_test = re.compile(r'价税合计.*[¥￥](?P<field>\\d+\\.\\d+)', re.S)\n",
    "# re_test = re.compile(r'(?P<field>[壹贰叁肆伍陆柒捌玖拾]\\s?[零壹贰叁肆伍陆柒捌玖拾佰仟万亿整元圆角分\\s]+[整元圆角分])')\n",
    "mt_test = re_test.search(text_3k)\n",
    "print(mt_test)\n",
    "if mt_test:\n",
    "    ret_test = mt_test.groupdict()['field']\n",
    "print(ret_test)"
   ]
  },
  {
   "cell_type": "code",
   "execution_count": 77,
   "metadata": {
    "ExecuteTime": {
     "end_time": "2019-07-19T15:22:44.386622Z",
     "start_time": "2019-07-19T15:22:44.318064Z"
    }
   },
   "outputs": [],
   "source": [
    "with pdfplumber.open(path) as pdf:\n",
    "    page0 = pdf.pages[0]\n",
    "    text_plumber = page0.extract_text()"
   ]
  },
  {
   "cell_type": "code",
   "execution_count": 78,
   "metadata": {
    "ExecuteTime": {
     "end_time": "2019-07-19T15:22:45.106542Z",
     "start_time": "2019-07-19T15:22:45.103538Z"
    }
   },
   "outputs": [
    {
     "data": {
      "text/plain": [
       "'天津增值税电子普通发票 发票代码:012001800311\\n发票号码:61399056\\n开票日期:2019年05月11日\\n机器编号: 499099801283 校 验 码:12169 07031 38785 25689\\n名\\u3000\\u3000\\u3000\\u3000称: 北京慧远云程科技有限公司 0316962*6+4-668437811-4--04-\\n购 密\\n纳税人识别号: 91110105306602928Y 00068797/13-<*7+/673<-/81/42\\n买 码\\n地 址、电 话: //61-6*58>84*86876637681+5>-\\n方 区\\n开户行及账号: >*65//95+6010+2319*<>28+785>\\n货物或应税劳务、服务名称 规格型号 单位 数\\u3000量 单\\u3000价 金\\u3000额 税率 税\\u3000额\\n*运输服务*客运服务费 无 次 1 113.84 113.84 3% 3.42\\n合 计 ￥113.84 ￥3.42\\n价税合计（大写） 壹佰壹拾柒圆贰角陆分 （小写）￥117.26\\n名\\u3000\\u3000\\u3000\\u3000称:滴滴出行科技有限公司\\n销 备\\n纳税人识别号:911201163409833307\\n售\\n地 址、电 话:天津经济技术开发区南港工业区综合服务区办公楼C座103室12单元022-59002850\\n方 注\\n开户行及账号:招商银行股份有限公司天津自由贸易试验区分行122905939910401\\n收 款 人: 张力强 复 核: 蔡静 开 票 人: 王秀丽 销 售 方:（章）'"
      ]
     },
     "execution_count": 78,
     "metadata": {},
     "output_type": "execute_result"
    }
   ],
   "source": [
    "text_plumber"
   ]
  },
  {
   "cell_type": "code",
   "execution_count": 79,
   "metadata": {
    "ExecuteTime": {
     "end_time": "2019-07-19T15:22:45.713672Z",
     "start_time": "2019-07-19T15:22:45.709652Z"
    }
   },
   "outputs": [
    {
     "name": "stdout",
     "output_type": "stream",
     "text": [
      "[(':', '91110105306602928Y'), (':', '911201163409833307')]\n"
     ]
    }
   ],
   "source": [
    "# re_test2 = re.compile(r'价税合计.*[¥￥](?P<field>\\d+\\.\\d+)', re.S)\n",
    "# re_test2 = re.compile(r'(?P<field>[壹贰叁肆伍陆柒捌玖拾]\\s?[零壹贰叁肆伍陆柒捌玖拾佰仟万亿整元圆角分\\s]+[整元圆角分])')\n",
    "# re_test2 = re.compile(r'名.*称(:|：)\\s*(?P<field>\\S*)\\s+', re.M)\n",
    "re_test2 = re.compile(r'纳税人识别号(:|：)\\s*(?P<field>[0-9a-zA-Z]{18})\\s+', re.M)\n",
    "# mt_test2 = re_test2.search(text_plumber)\n",
    "mt_test2 = re_test2.findall(text_plumber)\n",
    "print(mt_test2)\n",
    "# if mt_test2:\n",
    "#     ret_test2 = mt_test2.groupdict()['field']\n",
    "# print(ret_test2)"
   ]
  },
  {
   "cell_type": "code",
   "execution_count": 80,
   "metadata": {
    "ExecuteTime": {
     "end_time": "2019-07-19T15:22:46.415659Z",
     "start_time": "2019-07-19T15:22:46.411667Z"
    }
   },
   "outputs": [
    {
     "name": "stdout",
     "output_type": "stream",
     "text": [
      "<re.Match object; span=(110, 131), match='名\\u3000\\u3000\\u3000\\u3000称: 北京慧远云程科技有限公司 '>\n",
      "北京慧远云程科技有限公司\n",
      "<re.Match object; span=(433, 451), match='名\\u3000\\u3000\\u3000\\u3000称:滴滴出行科技有限公司\\n'>\n",
      "滴滴出行科技有限公司\n"
     ]
    }
   ],
   "source": [
    "re_test3 = re.compile(r'名.*称(:|：)\\s*(?P<field>\\S*)\\s+', re.M)\n",
    "# re_test3 = re.compile(r'纳税人识别号(:|：)\\s*(?P<field>[0-9a-zA-Z]{18})\\s+', re.M)\n",
    "mt_test3 = re_test3.finditer(text_plumber)\n",
    "for m in mt_test3:\n",
    "    print(m)\n",
    "    print(m.groupdict()['field'])"
   ]
  },
  {
   "cell_type": "code",
   "execution_count": null,
   "metadata": {},
   "outputs": [],
   "source": []
  }
 ],
 "metadata": {
  "kernelspec": {
   "display_name": "Python 3",
   "language": "python",
   "name": "python3"
  },
  "language_info": {
   "codemirror_mode": {
    "name": "ipython",
    "version": 3
   },
   "file_extension": ".py",
   "mimetype": "text/x-python",
   "name": "python",
   "nbconvert_exporter": "python",
   "pygments_lexer": "ipython3",
   "version": "3.7.3"
  },
  "latex_envs": {
   "LaTeX_envs_menu_present": true,
   "autoclose": false,
   "autocomplete": true,
   "bibliofile": "biblio.bib",
   "cite_by": "apalike",
   "current_citInitial": 1,
   "eqLabelWithNumbers": true,
   "eqNumInitial": 1,
   "hotkeys": {
    "equation": "Ctrl-E",
    "itemize": "Ctrl-I"
   },
   "labels_anchors": false,
   "latex_user_defs": false,
   "report_style_numbering": false,
   "user_envs_cfg": false
  },
  "toc": {
   "nav_menu": {},
   "number_sections": true,
   "sideBar": true,
   "skip_h1_title": false,
   "toc_cell": false,
   "toc_position": {},
   "toc_section_display": "block",
   "toc_window_display": false
  }
 },
 "nbformat": 4,
 "nbformat_minor": 2
}
